{
  "nbformat": 4,
  "nbformat_minor": 0,
  "metadata": {
    "colab": {
      "provenance": []
    },
    "kernelspec": {
      "name": "python3",
      "display_name": "Python 3"
    },
    "language_info": {
      "name": "python"
    }
  },
  "cells": [
    {
      "cell_type": "markdown",
      "source": [
        "# **Import libraries**"
      ],
      "metadata": {
        "id": "Qwfqpd6VwrZH"
      }
    },
    {
      "cell_type": "code",
      "execution_count": 1,
      "metadata": {
        "id": "IelZJ3AYuHDl"
      },
      "outputs": [],
      "source": [
        "import pandas as pd\n",
        "import numpy as np\n",
        "\n",
        "import matplotlib.pyplot as plt\n",
        "from sklearn.model_selection import train_test_split\n",
        "from sklearn.neighbors import KNeighborsClassifier\n",
        "from sklearn.linear_model import LogisticRegression\n",
        "from sklearn.tree import DecisionTreeClassifier\n",
        "from sklearn.naive_bayes import GaussianNB\n",
        "from sklearn.metrics import accuracy_score, recall_score, precision_score, f1_score\n",
        "from sklearn.preprocessing import LabelEncoder\n",
        "from sklearn.model_selection import StratifiedKFold\n",
        "from imblearn.over_sampling import SMOTE\n",
        "import seaborn as sns\n",
        "from sklearn.preprocessing import StandardScaler"
      ]
    },
    {
      "cell_type": "markdown",
      "source": [
        "# **Reading Data**"
      ],
      "metadata": {
        "id": "MjZvPZ8MwlRC"
      }
    },
    {
      "cell_type": "code",
      "source": [
        "df = pd.read_csv(\"Complaints.csv\")"
      ],
      "metadata": {
        "id": "E9H3P3h2uf0G"
      },
      "execution_count": null,
      "outputs": []
    },
    {
      "cell_type": "code",
      "source": [
        "df.info()"
      ],
      "metadata": {
        "colab": {
          "base_uri": "https://localhost:8080/"
        },
        "id": "cx8SdWM0wQ5d",
        "outputId": "9fda013f-c7bd-4b14-83d5-53f4a8e040c5"
      },
      "execution_count": 3,
      "outputs": [
        {
          "output_type": "stream",
          "name": "stdout",
          "text": [
            "<class 'pandas.core.frame.DataFrame'>\n",
            "RangeIndex: 10415 entries, 0 to 10414\n",
            "Data columns (total 22 columns):\n",
            " #   Column                  Non-Null Count  Dtype  \n",
            "---  ------                  --------------  -----  \n",
            " 0   CASE_ID                 10415 non-null  object \n",
            " 1   OFFER_NAME              9122 non-null   object \n",
            " 2   CUSTOMER_TYPE           10415 non-null  object \n",
            " 3   CUSTOMER_GROUP          9067 non-null   object \n",
            " 4   CURRENT_STATUS          10415 non-null  object \n",
            " 5   ESCALATION_FLAG         10415 non-null  object \n",
            " 6   ESCALATED_GROUP         3360 non-null   object \n",
            " 7   OPEN_DATE               10415 non-null  object \n",
            " 8   OPEN_USER               10053 non-null  object \n",
            " 9   CLOSE_DATE              10296 non-null  object \n",
            " 10  CLOSE_GROUP             5525 non-null   object \n",
            " 11  CLOSE_USER              9899 non-null   object \n",
            " 12  AGE_BRACKET             10296 non-null  float64\n",
            " 13  ACTUAL_COMPLAINT        10415 non-null  object \n",
            " 14  CALLBACK_MECHANISM      3138 non-null   object \n",
            " 15  RESOLUTION              79 non-null     object \n",
            " 16  RESOLUTION_DESCRIPTION  39 non-null     object \n",
            " 17  CASE_DESC               1172 non-null   object \n",
            " 18  OPEN_GR                 5854 non-null   object \n",
            " 19  COMPLAINT_TYPE          10415 non-null  object \n",
            " 20  PRODUCT                 10415 non-null  object \n",
            " 21  CASE                    10415 non-null  object \n",
            "dtypes: float64(1), object(21)\n",
            "memory usage: 1.7+ MB\n"
          ]
        }
      ]
    },
    {
      "cell_type": "code",
      "source": [
        "df.describe()"
      ],
      "metadata": {
        "colab": {
          "base_uri": "https://localhost:8080/",
          "height": 300
        },
        "id": "cT50OLirwely",
        "outputId": "a70b7aa7-577a-40ef-9fb8-0ab48544fb07"
      },
      "execution_count": 4,
      "outputs": [
        {
          "output_type": "execute_result",
          "data": {
            "text/plain": [
              "        AGE_BRACKET\n",
              "count  10296.000000\n",
              "mean       1.503302\n",
              "std        2.978144\n",
              "min        1.000000\n",
              "25%        1.000000\n",
              "50%        1.000000\n",
              "75%        1.000000\n",
              "max      116.000000"
            ],
            "text/html": [
              "\n",
              "  <div id=\"df-8ee9e0b0-12d9-414d-b61c-3b163c7de379\" class=\"colab-df-container\">\n",
              "    <div>\n",
              "<style scoped>\n",
              "    .dataframe tbody tr th:only-of-type {\n",
              "        vertical-align: middle;\n",
              "    }\n",
              "\n",
              "    .dataframe tbody tr th {\n",
              "        vertical-align: top;\n",
              "    }\n",
              "\n",
              "    .dataframe thead th {\n",
              "        text-align: right;\n",
              "    }\n",
              "</style>\n",
              "<table border=\"1\" class=\"dataframe\">\n",
              "  <thead>\n",
              "    <tr style=\"text-align: right;\">\n",
              "      <th></th>\n",
              "      <th>AGE_BRACKET</th>\n",
              "    </tr>\n",
              "  </thead>\n",
              "  <tbody>\n",
              "    <tr>\n",
              "      <th>count</th>\n",
              "      <td>10296.000000</td>\n",
              "    </tr>\n",
              "    <tr>\n",
              "      <th>mean</th>\n",
              "      <td>1.503302</td>\n",
              "    </tr>\n",
              "    <tr>\n",
              "      <th>std</th>\n",
              "      <td>2.978144</td>\n",
              "    </tr>\n",
              "    <tr>\n",
              "      <th>min</th>\n",
              "      <td>1.000000</td>\n",
              "    </tr>\n",
              "    <tr>\n",
              "      <th>25%</th>\n",
              "      <td>1.000000</td>\n",
              "    </tr>\n",
              "    <tr>\n",
              "      <th>50%</th>\n",
              "      <td>1.000000</td>\n",
              "    </tr>\n",
              "    <tr>\n",
              "      <th>75%</th>\n",
              "      <td>1.000000</td>\n",
              "    </tr>\n",
              "    <tr>\n",
              "      <th>max</th>\n",
              "      <td>116.000000</td>\n",
              "    </tr>\n",
              "  </tbody>\n",
              "</table>\n",
              "</div>\n",
              "    <div class=\"colab-df-buttons\">\n",
              "\n",
              "  <div class=\"colab-df-container\">\n",
              "    <button class=\"colab-df-convert\" onclick=\"convertToInteractive('df-8ee9e0b0-12d9-414d-b61c-3b163c7de379')\"\n",
              "            title=\"Convert this dataframe to an interactive table.\"\n",
              "            style=\"display:none;\">\n",
              "\n",
              "  <svg xmlns=\"http://www.w3.org/2000/svg\" height=\"24px\" viewBox=\"0 -960 960 960\">\n",
              "    <path d=\"M120-120v-720h720v720H120Zm60-500h600v-160H180v160Zm220 220h160v-160H400v160Zm0 220h160v-160H400v160ZM180-400h160v-160H180v160Zm440 0h160v-160H620v160ZM180-180h160v-160H180v160Zm440 0h160v-160H620v160Z\"/>\n",
              "  </svg>\n",
              "    </button>\n",
              "\n",
              "  <style>\n",
              "    .colab-df-container {\n",
              "      display:flex;\n",
              "      gap: 12px;\n",
              "    }\n",
              "\n",
              "    .colab-df-convert {\n",
              "      background-color: #E8F0FE;\n",
              "      border: none;\n",
              "      border-radius: 50%;\n",
              "      cursor: pointer;\n",
              "      display: none;\n",
              "      fill: #1967D2;\n",
              "      height: 32px;\n",
              "      padding: 0 0 0 0;\n",
              "      width: 32px;\n",
              "    }\n",
              "\n",
              "    .colab-df-convert:hover {\n",
              "      background-color: #E2EBFA;\n",
              "      box-shadow: 0px 1px 2px rgba(60, 64, 67, 0.3), 0px 1px 3px 1px rgba(60, 64, 67, 0.15);\n",
              "      fill: #174EA6;\n",
              "    }\n",
              "\n",
              "    .colab-df-buttons div {\n",
              "      margin-bottom: 4px;\n",
              "    }\n",
              "\n",
              "    [theme=dark] .colab-df-convert {\n",
              "      background-color: #3B4455;\n",
              "      fill: #D2E3FC;\n",
              "    }\n",
              "\n",
              "    [theme=dark] .colab-df-convert:hover {\n",
              "      background-color: #434B5C;\n",
              "      box-shadow: 0px 1px 3px 1px rgba(0, 0, 0, 0.15);\n",
              "      filter: drop-shadow(0px 1px 2px rgba(0, 0, 0, 0.3));\n",
              "      fill: #FFFFFF;\n",
              "    }\n",
              "  </style>\n",
              "\n",
              "    <script>\n",
              "      const buttonEl =\n",
              "        document.querySelector('#df-8ee9e0b0-12d9-414d-b61c-3b163c7de379 button.colab-df-convert');\n",
              "      buttonEl.style.display =\n",
              "        google.colab.kernel.accessAllowed ? 'block' : 'none';\n",
              "\n",
              "      async function convertToInteractive(key) {\n",
              "        const element = document.querySelector('#df-8ee9e0b0-12d9-414d-b61c-3b163c7de379');\n",
              "        const dataTable =\n",
              "          await google.colab.kernel.invokeFunction('convertToInteractive',\n",
              "                                                    [key], {});\n",
              "        if (!dataTable) return;\n",
              "\n",
              "        const docLinkHtml = 'Like what you see? Visit the ' +\n",
              "          '<a target=\"_blank\" href=https://colab.research.google.com/notebooks/data_table.ipynb>data table notebook</a>'\n",
              "          + ' to learn more about interactive tables.';\n",
              "        element.innerHTML = '';\n",
              "        dataTable['output_type'] = 'display_data';\n",
              "        await google.colab.output.renderOutput(dataTable, element);\n",
              "        const docLink = document.createElement('div');\n",
              "        docLink.innerHTML = docLinkHtml;\n",
              "        element.appendChild(docLink);\n",
              "      }\n",
              "    </script>\n",
              "  </div>\n",
              "\n",
              "\n",
              "<div id=\"df-e12ccb1e-5e35-4f93-8292-54a796ff1ed2\">\n",
              "  <button class=\"colab-df-quickchart\" onclick=\"quickchart('df-e12ccb1e-5e35-4f93-8292-54a796ff1ed2')\"\n",
              "            title=\"Suggest charts\"\n",
              "            style=\"display:none;\">\n",
              "\n",
              "<svg xmlns=\"http://www.w3.org/2000/svg\" height=\"24px\"viewBox=\"0 0 24 24\"\n",
              "     width=\"24px\">\n",
              "    <g>\n",
              "        <path d=\"M19 3H5c-1.1 0-2 .9-2 2v14c0 1.1.9 2 2 2h14c1.1 0 2-.9 2-2V5c0-1.1-.9-2-2-2zM9 17H7v-7h2v7zm4 0h-2V7h2v10zm4 0h-2v-4h2v4z\"/>\n",
              "    </g>\n",
              "</svg>\n",
              "  </button>\n",
              "\n",
              "<style>\n",
              "  .colab-df-quickchart {\n",
              "      --bg-color: #E8F0FE;\n",
              "      --fill-color: #1967D2;\n",
              "      --hover-bg-color: #E2EBFA;\n",
              "      --hover-fill-color: #174EA6;\n",
              "      --disabled-fill-color: #AAA;\n",
              "      --disabled-bg-color: #DDD;\n",
              "  }\n",
              "\n",
              "  [theme=dark] .colab-df-quickchart {\n",
              "      --bg-color: #3B4455;\n",
              "      --fill-color: #D2E3FC;\n",
              "      --hover-bg-color: #434B5C;\n",
              "      --hover-fill-color: #FFFFFF;\n",
              "      --disabled-bg-color: #3B4455;\n",
              "      --disabled-fill-color: #666;\n",
              "  }\n",
              "\n",
              "  .colab-df-quickchart {\n",
              "    background-color: var(--bg-color);\n",
              "    border: none;\n",
              "    border-radius: 50%;\n",
              "    cursor: pointer;\n",
              "    display: none;\n",
              "    fill: var(--fill-color);\n",
              "    height: 32px;\n",
              "    padding: 0;\n",
              "    width: 32px;\n",
              "  }\n",
              "\n",
              "  .colab-df-quickchart:hover {\n",
              "    background-color: var(--hover-bg-color);\n",
              "    box-shadow: 0 1px 2px rgba(60, 64, 67, 0.3), 0 1px 3px 1px rgba(60, 64, 67, 0.15);\n",
              "    fill: var(--button-hover-fill-color);\n",
              "  }\n",
              "\n",
              "  .colab-df-quickchart-complete:disabled,\n",
              "  .colab-df-quickchart-complete:disabled:hover {\n",
              "    background-color: var(--disabled-bg-color);\n",
              "    fill: var(--disabled-fill-color);\n",
              "    box-shadow: none;\n",
              "  }\n",
              "\n",
              "  .colab-df-spinner {\n",
              "    border: 2px solid var(--fill-color);\n",
              "    border-color: transparent;\n",
              "    border-bottom-color: var(--fill-color);\n",
              "    animation:\n",
              "      spin 1s steps(1) infinite;\n",
              "  }\n",
              "\n",
              "  @keyframes spin {\n",
              "    0% {\n",
              "      border-color: transparent;\n",
              "      border-bottom-color: var(--fill-color);\n",
              "      border-left-color: var(--fill-color);\n",
              "    }\n",
              "    20% {\n",
              "      border-color: transparent;\n",
              "      border-left-color: var(--fill-color);\n",
              "      border-top-color: var(--fill-color);\n",
              "    }\n",
              "    30% {\n",
              "      border-color: transparent;\n",
              "      border-left-color: var(--fill-color);\n",
              "      border-top-color: var(--fill-color);\n",
              "      border-right-color: var(--fill-color);\n",
              "    }\n",
              "    40% {\n",
              "      border-color: transparent;\n",
              "      border-right-color: var(--fill-color);\n",
              "      border-top-color: var(--fill-color);\n",
              "    }\n",
              "    60% {\n",
              "      border-color: transparent;\n",
              "      border-right-color: var(--fill-color);\n",
              "    }\n",
              "    80% {\n",
              "      border-color: transparent;\n",
              "      border-right-color: var(--fill-color);\n",
              "      border-bottom-color: var(--fill-color);\n",
              "    }\n",
              "    90% {\n",
              "      border-color: transparent;\n",
              "      border-bottom-color: var(--fill-color);\n",
              "    }\n",
              "  }\n",
              "</style>\n",
              "\n",
              "  <script>\n",
              "    async function quickchart(key) {\n",
              "      const quickchartButtonEl =\n",
              "        document.querySelector('#' + key + ' button');\n",
              "      quickchartButtonEl.disabled = true;  // To prevent multiple clicks.\n",
              "      quickchartButtonEl.classList.add('colab-df-spinner');\n",
              "      try {\n",
              "        const charts = await google.colab.kernel.invokeFunction(\n",
              "            'suggestCharts', [key], {});\n",
              "      } catch (error) {\n",
              "        console.error('Error during call to suggestCharts:', error);\n",
              "      }\n",
              "      quickchartButtonEl.classList.remove('colab-df-spinner');\n",
              "      quickchartButtonEl.classList.add('colab-df-quickchart-complete');\n",
              "    }\n",
              "    (() => {\n",
              "      let quickchartButtonEl =\n",
              "        document.querySelector('#df-e12ccb1e-5e35-4f93-8292-54a796ff1ed2 button');\n",
              "      quickchartButtonEl.style.display =\n",
              "        google.colab.kernel.accessAllowed ? 'block' : 'none';\n",
              "    })();\n",
              "  </script>\n",
              "</div>\n",
              "\n",
              "    </div>\n",
              "  </div>\n"
            ],
            "application/vnd.google.colaboratory.intrinsic+json": {
              "type": "dataframe",
              "summary": "{\n  \"name\": \"df\",\n  \"rows\": 8,\n  \"fields\": [\n    {\n      \"column\": \"AGE_BRACKET\",\n      \"properties\": {\n        \"dtype\": \"number\",\n        \"std\": 3634.119719156927,\n        \"min\": 1.0,\n        \"max\": 10296.0,\n        \"num_unique_values\": 5,\n        \"samples\": [\n          1.5033022533022533,\n          116.0,\n          2.9781442459072127\n        ],\n        \"semantic_type\": \"\",\n        \"description\": \"\"\n      }\n    }\n  ]\n}"
            }
          },
          "metadata": {},
          "execution_count": 4
        }
      ]
    },
    {
      "cell_type": "markdown",
      "source": [
        "# **Preprocessing**"
      ],
      "metadata": {
        "id": "ZrTwxqgywx3D"
      }
    },
    {
      "cell_type": "code",
      "source": [
        "df.isnull().sum()"
      ],
      "metadata": {
        "colab": {
          "base_uri": "https://localhost:8080/",
          "height": 774
        },
        "id": "CzFs3G2Ouv13",
        "outputId": "01882b56-1367-4e44-f57f-7271cbe21c96"
      },
      "execution_count": 5,
      "outputs": [
        {
          "output_type": "execute_result",
          "data": {
            "text/plain": [
              "CASE_ID                       0\n",
              "OFFER_NAME                 1293\n",
              "CUSTOMER_TYPE                 0\n",
              "CUSTOMER_GROUP             1348\n",
              "CURRENT_STATUS                0\n",
              "ESCALATION_FLAG               0\n",
              "ESCALATED_GROUP            7055\n",
              "OPEN_DATE                     0\n",
              "OPEN_USER                   362\n",
              "CLOSE_DATE                  119\n",
              "CLOSE_GROUP                4890\n",
              "CLOSE_USER                  516\n",
              "AGE_BRACKET                 119\n",
              "ACTUAL_COMPLAINT              0\n",
              "CALLBACK_MECHANISM         7277\n",
              "RESOLUTION                10336\n",
              "RESOLUTION_DESCRIPTION    10376\n",
              "CASE_DESC                  9243\n",
              "OPEN_GR                    4561\n",
              "COMPLAINT_TYPE                0\n",
              "PRODUCT                       0\n",
              "CASE                          0\n",
              "dtype: int64"
            ],
            "text/html": [
              "<div>\n",
              "<style scoped>\n",
              "    .dataframe tbody tr th:only-of-type {\n",
              "        vertical-align: middle;\n",
              "    }\n",
              "\n",
              "    .dataframe tbody tr th {\n",
              "        vertical-align: top;\n",
              "    }\n",
              "\n",
              "    .dataframe thead th {\n",
              "        text-align: right;\n",
              "    }\n",
              "</style>\n",
              "<table border=\"1\" class=\"dataframe\">\n",
              "  <thead>\n",
              "    <tr style=\"text-align: right;\">\n",
              "      <th></th>\n",
              "      <th>0</th>\n",
              "    </tr>\n",
              "  </thead>\n",
              "  <tbody>\n",
              "    <tr>\n",
              "      <th>CASE_ID</th>\n",
              "      <td>0</td>\n",
              "    </tr>\n",
              "    <tr>\n",
              "      <th>OFFER_NAME</th>\n",
              "      <td>1293</td>\n",
              "    </tr>\n",
              "    <tr>\n",
              "      <th>CUSTOMER_TYPE</th>\n",
              "      <td>0</td>\n",
              "    </tr>\n",
              "    <tr>\n",
              "      <th>CUSTOMER_GROUP</th>\n",
              "      <td>1348</td>\n",
              "    </tr>\n",
              "    <tr>\n",
              "      <th>CURRENT_STATUS</th>\n",
              "      <td>0</td>\n",
              "    </tr>\n",
              "    <tr>\n",
              "      <th>ESCALATION_FLAG</th>\n",
              "      <td>0</td>\n",
              "    </tr>\n",
              "    <tr>\n",
              "      <th>ESCALATED_GROUP</th>\n",
              "      <td>7055</td>\n",
              "    </tr>\n",
              "    <tr>\n",
              "      <th>OPEN_DATE</th>\n",
              "      <td>0</td>\n",
              "    </tr>\n",
              "    <tr>\n",
              "      <th>OPEN_USER</th>\n",
              "      <td>362</td>\n",
              "    </tr>\n",
              "    <tr>\n",
              "      <th>CLOSE_DATE</th>\n",
              "      <td>119</td>\n",
              "    </tr>\n",
              "    <tr>\n",
              "      <th>CLOSE_GROUP</th>\n",
              "      <td>4890</td>\n",
              "    </tr>\n",
              "    <tr>\n",
              "      <th>CLOSE_USER</th>\n",
              "      <td>516</td>\n",
              "    </tr>\n",
              "    <tr>\n",
              "      <th>AGE_BRACKET</th>\n",
              "      <td>119</td>\n",
              "    </tr>\n",
              "    <tr>\n",
              "      <th>ACTUAL_COMPLAINT</th>\n",
              "      <td>0</td>\n",
              "    </tr>\n",
              "    <tr>\n",
              "      <th>CALLBACK_MECHANISM</th>\n",
              "      <td>7277</td>\n",
              "    </tr>\n",
              "    <tr>\n",
              "      <th>RESOLUTION</th>\n",
              "      <td>10336</td>\n",
              "    </tr>\n",
              "    <tr>\n",
              "      <th>RESOLUTION_DESCRIPTION</th>\n",
              "      <td>10376</td>\n",
              "    </tr>\n",
              "    <tr>\n",
              "      <th>CASE_DESC</th>\n",
              "      <td>9243</td>\n",
              "    </tr>\n",
              "    <tr>\n",
              "      <th>OPEN_GR</th>\n",
              "      <td>4561</td>\n",
              "    </tr>\n",
              "    <tr>\n",
              "      <th>COMPLAINT_TYPE</th>\n",
              "      <td>0</td>\n",
              "    </tr>\n",
              "    <tr>\n",
              "      <th>PRODUCT</th>\n",
              "      <td>0</td>\n",
              "    </tr>\n",
              "    <tr>\n",
              "      <th>CASE</th>\n",
              "      <td>0</td>\n",
              "    </tr>\n",
              "  </tbody>\n",
              "</table>\n",
              "</div><br><label><b>dtype:</b> int64</label>"
            ]
          },
          "metadata": {},
          "execution_count": 5
        }
      ]
    },
    {
      "cell_type": "code",
      "source": [
        "df.drop(labels = [\"ESCALATED_GROUP\", \"CALLBACK_MECHANISM\", \"RESOLUTION\", \"RESOLUTION_DESCRIPTION\",\n",
        "                  \"CASE_DESC\", \"CLOSE_DATE\", \"OPEN_DATE\", \"CASE_ID\"], axis = 1, inplace = True)"
      ],
      "metadata": {
        "id": "sU-4g6fKu3pv"
      },
      "execution_count": 6,
      "outputs": []
    },
    {
      "cell_type": "code",
      "source": [
        "df['AGE_BRACKET'].fillna(df['AGE_BRACKET'].mean(), inplace = True)"
      ],
      "metadata": {
        "id": "fBYpxJEzjXeL",
        "collapsed": true
      },
      "execution_count": null,
      "outputs": []
    },
    {
      "cell_type": "code",
      "source": [
        "df['OFFER_NAME'].fillna('unknown', inplace = True)\n",
        "\n",
        "df['CUSTOMER_GROUP'].fillna('unknown', inplace = True)\n",
        "\n",
        "df['CLOSE_GROUP'].fillna('unknown', inplace = True)\n",
        "\n",
        "df['CLOSE_USER'].fillna('unknown', inplace = True)\n",
        "\n",
        "df['OPEN_GR'].fillna('unknown', inplace = True)\n",
        "\n",
        "df['OPEN_USER'].fillna('unknown', inplace = True)"
      ],
      "metadata": {
        "id": "3Iba0b_PvbZ0",
        "collapsed": true
      },
      "execution_count": null,
      "outputs": []
    },
    {
      "cell_type": "code",
      "source": [
        "df.isnull().sum()"
      ],
      "metadata": {
        "colab": {
          "base_uri": "https://localhost:8080/",
          "height": 523
        },
        "id": "0IVuezUAi5h0",
        "outputId": "37aeff17-6c1a-4080-d5f4-2e34338f749d"
      },
      "execution_count": 9,
      "outputs": [
        {
          "output_type": "execute_result",
          "data": {
            "text/plain": [
              "OFFER_NAME          0\n",
              "CUSTOMER_TYPE       0\n",
              "CUSTOMER_GROUP      0\n",
              "CURRENT_STATUS      0\n",
              "ESCALATION_FLAG     0\n",
              "OPEN_USER           0\n",
              "CLOSE_GROUP         0\n",
              "CLOSE_USER          0\n",
              "AGE_BRACKET         0\n",
              "ACTUAL_COMPLAINT    0\n",
              "OPEN_GR             0\n",
              "COMPLAINT_TYPE      0\n",
              "PRODUCT             0\n",
              "CASE                0\n",
              "dtype: int64"
            ],
            "text/html": [
              "<div>\n",
              "<style scoped>\n",
              "    .dataframe tbody tr th:only-of-type {\n",
              "        vertical-align: middle;\n",
              "    }\n",
              "\n",
              "    .dataframe tbody tr th {\n",
              "        vertical-align: top;\n",
              "    }\n",
              "\n",
              "    .dataframe thead th {\n",
              "        text-align: right;\n",
              "    }\n",
              "</style>\n",
              "<table border=\"1\" class=\"dataframe\">\n",
              "  <thead>\n",
              "    <tr style=\"text-align: right;\">\n",
              "      <th></th>\n",
              "      <th>0</th>\n",
              "    </tr>\n",
              "  </thead>\n",
              "  <tbody>\n",
              "    <tr>\n",
              "      <th>OFFER_NAME</th>\n",
              "      <td>0</td>\n",
              "    </tr>\n",
              "    <tr>\n",
              "      <th>CUSTOMER_TYPE</th>\n",
              "      <td>0</td>\n",
              "    </tr>\n",
              "    <tr>\n",
              "      <th>CUSTOMER_GROUP</th>\n",
              "      <td>0</td>\n",
              "    </tr>\n",
              "    <tr>\n",
              "      <th>CURRENT_STATUS</th>\n",
              "      <td>0</td>\n",
              "    </tr>\n",
              "    <tr>\n",
              "      <th>ESCALATION_FLAG</th>\n",
              "      <td>0</td>\n",
              "    </tr>\n",
              "    <tr>\n",
              "      <th>OPEN_USER</th>\n",
              "      <td>0</td>\n",
              "    </tr>\n",
              "    <tr>\n",
              "      <th>CLOSE_GROUP</th>\n",
              "      <td>0</td>\n",
              "    </tr>\n",
              "    <tr>\n",
              "      <th>CLOSE_USER</th>\n",
              "      <td>0</td>\n",
              "    </tr>\n",
              "    <tr>\n",
              "      <th>AGE_BRACKET</th>\n",
              "      <td>0</td>\n",
              "    </tr>\n",
              "    <tr>\n",
              "      <th>ACTUAL_COMPLAINT</th>\n",
              "      <td>0</td>\n",
              "    </tr>\n",
              "    <tr>\n",
              "      <th>OPEN_GR</th>\n",
              "      <td>0</td>\n",
              "    </tr>\n",
              "    <tr>\n",
              "      <th>COMPLAINT_TYPE</th>\n",
              "      <td>0</td>\n",
              "    </tr>\n",
              "    <tr>\n",
              "      <th>PRODUCT</th>\n",
              "      <td>0</td>\n",
              "    </tr>\n",
              "    <tr>\n",
              "      <th>CASE</th>\n",
              "      <td>0</td>\n",
              "    </tr>\n",
              "  </tbody>\n",
              "</table>\n",
              "</div><br><label><b>dtype:</b> int64</label>"
            ]
          },
          "metadata": {},
          "execution_count": 9
        }
      ]
    },
    {
      "cell_type": "code",
      "source": [
        "sns.countplot(x='COMPLAINT_TYPE', data=df)\n",
        "plt.show()"
      ],
      "metadata": {
        "colab": {
          "base_uri": "https://localhost:8080/",
          "height": 449
        },
        "id": "miKVm9u-x55T",
        "outputId": "a9471cc4-8ac3-4168-83f6-9326721515c6"
      },
      "execution_count": 10,
      "outputs": [
        {
          "output_type": "display_data",
          "data": {
            "text/plain": [
              "<Figure size 640x480 with 1 Axes>"
            ],
            "image/png": "[encoded data removed]"
          },
          "metadata": {}
        }
      ]
    },
    {
      "cell_type": "code",
      "source": [
        "df.columns"
      ],
      "metadata": {
        "colab": {
          "base_uri": "https://localhost:8080/"
        },
        "id": "iv6ZX3j8mOZt",
        "outputId": "4117964b-f395-485a-eb58-22cdee237ed2"
      },
      "execution_count": 11,
      "outputs": [
        {
          "output_type": "execute_result",
          "data": {
            "text/plain": [
              "Index(['OFFER_NAME', 'CUSTOMER_TYPE', 'CUSTOMER_GROUP', 'CURRENT_STATUS',\n",
              "       'ESCALATION_FLAG', 'OPEN_USER', 'CLOSE_GROUP', 'CLOSE_USER',\n",
              "       'AGE_BRACKET', 'ACTUAL_COMPLAINT', 'OPEN_GR', 'COMPLAINT_TYPE',\n",
              "       'PRODUCT', 'CASE'],\n",
              "      dtype='object')"
            ]
          },
          "metadata": {},
          "execution_count": 11
        }
      ]
    },
    {
      "cell_type": "code",
      "source": [
        "c = df.select_dtypes(['object']).columns\n",
        "c\n"
      ],
      "metadata": {
        "colab": {
          "base_uri": "https://localhost:8080/"
        },
        "id": "zGJpwGcqBsGx",
        "outputId": "aad1b3b4-6ae5-469f-a20a-721814c06ff0"
      },
      "execution_count": 12,
      "outputs": [
        {
          "output_type": "execute_result",
          "data": {
            "text/plain": [
              "Index(['OFFER_NAME', 'CUSTOMER_TYPE', 'CUSTOMER_GROUP', 'CURRENT_STATUS',\n",
              "       'ESCALATION_FLAG', 'OPEN_USER', 'CLOSE_GROUP', 'CLOSE_USER',\n",
              "       'ACTUAL_COMPLAINT', 'OPEN_GR', 'COMPLAINT_TYPE', 'PRODUCT', 'CASE'],\n",
              "      dtype='object')"
            ]
          },
          "metadata": {},
          "execution_count": 12
        }
      ]
    },
    {
      "cell_type": "code",
      "source": [
        "le = LabelEncoder()\n",
        "df[c] = df[c].apply(LabelEncoder().fit_transform)\n",
        "df"
      ],
      "metadata": {
        "id": "aKTjiA3UCjN1",
        "colab": {
          "base_uri": "https://localhost:8080/",
          "height": 443
        },
        "outputId": "27259912-12f4-42c0-bc5d-b3e3f3c20387"
      },
      "execution_count": 13,
      "outputs": [
        {
          "output_type": "execute_result",
          "data": {
            "text/plain": [
              "       OFFER_NAME  CUSTOMER_TYPE  CUSTOMER_GROUP  CURRENT_STATUS  \\\n",
              "0              24              0              16               1   \n",
              "1             140              0              73               1   \n",
              "2               9              0              70               1   \n",
              "3              24              0              16               1   \n",
              "4              24              0              16               1   \n",
              "...           ...            ...             ...             ...   \n",
              "10410          60              0              54               1   \n",
              "10411          24              0              16               1   \n",
              "10412          22              1              14               1   \n",
              "10413           9              0              70               1   \n",
              "10414           9              0              70               1   \n",
              "\n",
              "       ESCALATION_FLAG  OPEN_USER  CLOSE_GROUP  CLOSE_USER  AGE_BRACKET  \\\n",
              "0                    1         55           19          57          2.0   \n",
              "1                    1        249           28          78          1.0   \n",
              "2                    0        166           10         165          1.0   \n",
              "3                    0        155           46         152          1.0   \n",
              "4                    0        110           10         108          1.0   \n",
              "...                ...        ...          ...         ...          ...   \n",
              "10410                0         10           46          20          1.0   \n",
              "10411                0         12           46          23          1.0   \n",
              "10412                0        263           10         283          1.0   \n",
              "10413                0         18           10          28          1.0   \n",
              "10414                0        109           46         101          1.0   \n",
              "\n",
              "       ACTUAL_COMPLAINT  OPEN_GR  COMPLAINT_TYPE  PRODUCT  CASE  \n",
              "0                     0       10               1        0     4  \n",
              "1                     1       17               0        1     0  \n",
              "2                     2        2               1        0     4  \n",
              "3                     2       18               1        0     4  \n",
              "4                     2        2               1        0     4  \n",
              "...                 ...      ...             ...      ...   ...  \n",
              "10410                 2       18               0        1     0  \n",
              "10411                 2        2               1        0     4  \n",
              "10412                 2        2               1        0     4  \n",
              "10413                 2        2               1        0     4  \n",
              "10414                 2       18               1        0     4  \n",
              "\n",
              "[10415 rows x 14 columns]"
            ],
            "text/html": [
              "\n",
              "  <div id=\"df-f43eee16-db65-4fb7-bccc-7bab5b0949f6\" class=\"colab-df-container\">\n",
              "    <div>\n",
              "<style scoped>\n",
              "    .dataframe tbody tr th:only-of-type {\n",
              "        vertical-align: middle;\n",
              "    }\n",
              "\n",
              "    .dataframe tbody tr th {\n",
              "        vertical-align: top;\n",
              "    }\n",
              "\n",
              "    .dataframe thead th {\n",
              "        text-align: right;\n",
              "    }\n",
              "</style>\n",
              "<table border=\"1\" class=\"dataframe\">\n",
              "  <thead>\n",
              "    <tr style=\"text-align: right;\">\n",
              "      <th></th>\n",
              "      <th>OFFER_NAME</th>\n",
              "      <th>CUSTOMER_TYPE</th>\n",
              "      <th>CUSTOMER_GROUP</th>\n",
              "      <th>CURRENT_STATUS</th>\n",
              "      <th>ESCALATION_FLAG</th>\n",
              "      <th>OPEN_USER</th>\n",
              "      <th>CLOSE_GROUP</th>\n",
              "      <th>CLOSE_USER</th>\n",
              "      <th>AGE_BRACKET</th>\n",
              "      <th>ACTUAL_COMPLAINT</th>\n",
              "      <th>OPEN_GR</th>\n",
              "      <th>COMPLAINT_TYPE</th>\n",
              "      <th>PRODUCT</th>\n",
              "      <th>CASE</th>\n",
              "    </tr>\n",
              "  </thead>\n",
              "  <tbody>\n",
              "    <tr>\n",
              "      <th>0</th>\n",
              "      <td>24</td>\n",
              "      <td>0</td>\n",
              "      <td>16</td>\n",
              "      <td>1</td>\n",
              "      <td>1</td>\n",
              "      <td>55</td>\n",
              "      <td>19</td>\n",
              "      <td>57</td>\n",
              "      <td>2.0</td>\n",
              "      <td>0</td>\n",
              "      <td>10</td>\n",
              "      <td>1</td>\n",
              "      <td>0</td>\n",
              "      <td>4</td>\n",
              "    </tr>\n",
              "    <tr>\n",
              "      <th>1</th>\n",
              "      <td>140</td>\n",
              "      <td>0</td>\n",
              "      <td>73</td>\n",
              "      <td>1</td>\n",
              "      <td>1</td>\n",
              "      <td>249</td>\n",
              "      <td>28</td>\n",
              "      <td>78</td>\n",
              "      <td>1.0</td>\n",
              "      <td>1</td>\n",
              "      <td>17</td>\n",
              "      <td>0</td>\n",
              "      <td>1</td>\n",
              "      <td>0</td>\n",
              "    </tr>\n",
              "    <tr>\n",
              "      <th>2</th>\n",
              "      <td>9</td>\n",
              "      <td>0</td>\n",
              "      <td>70</td>\n",
              "      <td>1</td>\n",
              "      <td>0</td>\n",
              "      <td>166</td>\n",
              "      <td>10</td>\n",
              "      <td>165</td>\n",
              "      <td>1.0</td>\n",
              "      <td>2</td>\n",
              "      <td>2</td>\n",
              "      <td>1</td>\n",
              "      <td>0</td>\n",
              "      <td>4</td>\n",
              "    </tr>\n",
              "    <tr>\n",
              "      <th>3</th>\n",
              "      <td>24</td>\n",
              "      <td>0</td>\n",
              "      <td>16</td>\n",
              "      <td>1</td>\n",
              "      <td>0</td>\n",
              "      <td>155</td>\n",
              "      <td>46</td>\n",
              "      <td>152</td>\n",
              "      <td>1.0</td>\n",
              "      <td>2</td>\n",
              "      <td>18</td>\n",
              "      <td>1</td>\n",
              "      <td>0</td>\n",
              "      <td>4</td>\n",
              "    </tr>\n",
              "    <tr>\n",
              "      <th>4</th>\n",
              "      <td>24</td>\n",
              "      <td>0</td>\n",
              "      <td>16</td>\n",
              "      <td>1</td>\n",
              "      <td>0</td>\n",
              "      <td>110</td>\n",
              "      <td>10</td>\n",
              "      <td>108</td>\n",
              "      <td>1.0</td>\n",
              "      <td>2</td>\n",
              "      <td>2</td>\n",
              "      <td>1</td>\n",
              "      <td>0</td>\n",
              "      <td>4</td>\n",
              "    </tr>\n",
              "    <tr>\n",
              "      <th>...</th>\n",
              "      <td>...</td>\n",
              "      <td>...</td>\n",
              "      <td>...</td>\n",
              "      <td>...</td>\n",
              "      <td>...</td>\n",
              "      <td>...</td>\n",
              "      <td>...</td>\n",
              "      <td>...</td>\n",
              "      <td>...</td>\n",
              "      <td>...</td>\n",
              "      <td>...</td>\n",
              "      <td>...</td>\n",
              "      <td>...</td>\n",
              "      <td>...</td>\n",
              "    </tr>\n",
              "    <tr>\n",
              "      <th>10410</th>\n",
              "      <td>60</td>\n",
              "      <td>0</td>\n",
              "      <td>54</td>\n",
              "      <td>1</td>\n",
              "      <td>0</td>\n",
              "      <td>10</td>\n",
              "      <td>46</td>\n",
              "      <td>20</td>\n",
              "      <td>1.0</td>\n",
              "      <td>2</td>\n",
              "      <td>18</td>\n",
              "      <td>0</td>\n",
              "      <td>1</td>\n",
              "      <td>0</td>\n",
              "    </tr>\n",
              "    <tr>\n",
              "      <th>10411</th>\n",
              "      <td>24</td>\n",
              "      <td>0</td>\n",
              "      <td>16</td>\n",
              "      <td>1</td>\n",
              "      <td>0</td>\n",
              "      <td>12</td>\n",
              "      <td>46</td>\n",
              "      <td>23</td>\n",
              "      <td>1.0</td>\n",
              "      <td>2</td>\n",
              "      <td>2</td>\n",
              "      <td>1</td>\n",
              "      <td>0</td>\n",
              "      <td>4</td>\n",
              "    </tr>\n",
              "    <tr>\n",
              "      <th>10412</th>\n",
              "      <td>22</td>\n",
              "      <td>1</td>\n",
              "      <td>14</td>\n",
              "      <td>1</td>\n",
              "      <td>0</td>\n",
              "      <td>263</td>\n",
              "      <td>10</td>\n",
              "      <td>283</td>\n",
              "      <td>1.0</td>\n",
              "      <td>2</td>\n",
              "      <td>2</td>\n",
              "      <td>1</td>\n",
              "      <td>0</td>\n",
              "      <td>4</td>\n",
              "    </tr>\n",
              "    <tr>\n",
              "      <th>10413</th>\n",
              "      <td>9</td>\n",
              "      <td>0</td>\n",
              "      <td>70</td>\n",
              "      <td>1</td>\n",
              "      <td>0</td>\n",
              "      <td>18</td>\n",
              "      <td>10</td>\n",
              "      <td>28</td>\n",
              "      <td>1.0</td>\n",
              "      <td>2</td>\n",
              "      <td>2</td>\n",
              "      <td>1</td>\n",
              "      <td>0</td>\n",
              "      <td>4</td>\n",
              "    </tr>\n",
              "    <tr>\n",
              "      <th>10414</th>\n",
              "      <td>9</td>\n",
              "      <td>0</td>\n",
              "      <td>70</td>\n",
              "      <td>1</td>\n",
              "      <td>0</td>\n",
              "      <td>109</td>\n",
              "      <td>46</td>\n",
              "      <td>101</td>\n",
              "      <td>1.0</td>\n",
              "      <td>2</td>\n",
              "      <td>18</td>\n",
              "      <td>1</td>\n",
              "      <td>0</td>\n",
              "      <td>4</td>\n",
              "    </tr>\n",
              "  </tbody>\n",
              "</table>\n",
              "<p>10415 rows × 14 columns</p>\n",
              "</div>\n",
              "    <div class=\"colab-df-buttons\">\n",
              "\n",
              "  <div class=\"colab-df-container\">\n",
              "    <button class=\"colab-df-convert\" onclick=\"convertToInteractive('df-f43eee16-db65-4fb7-bccc-7bab5b0949f6')\"\n",
              "            title=\"Convert this dataframe to an interactive table.\"\n",
              "            style=\"display:none;\">\n",
              "\n",
              "  <svg xmlns=\"http://www.w3.org/2000/svg\" height=\"24px\" viewBox=\"0 -960 960 960\">\n",
              "    <path d=\"M120-120v-720h720v720H120Zm60-500h600v-160H180v160Zm220 220h160v-160H400v160Zm0 220h160v-160H400v160ZM180-400h160v-160H180v160Zm440 0h160v-160H620v160ZM180-180h160v-160H180v160Zm440 0h160v-160H620v160Z\"/>\n",
              "  </svg>\n",
              "    </button>\n",
              "\n",
              "  <style>\n",
              "    .colab-df-container {\n",
              "      display:flex;\n",
              "      gap: 12px;\n",
              "    }\n",
              "\n",
              "    .colab-df-convert {\n",
              "      background-color: #E8F0FE;\n",
              "      border: none;\n",
              "      border-radius: 50%;\n",
              "      cursor: pointer;\n",
              "      display: none;\n",
              "      fill: #1967D2;\n",
              "      height: 32px;\n",
              "      padding: 0 0 0 0;\n",
              "      width: 32px;\n",
              "    }\n",
              "\n",
              "    .colab-df-convert:hover {\n",
              "      background-color: #E2EBFA;\n",
              "      box-shadow: 0px 1px 2px rgba(60, 64, 67, 0.3), 0px 1px 3px 1px rgba(60, 64, 67, 0.15);\n",
              "      fill: #174EA6;\n",
              "    }\n",
              "\n",
              "    .colab-df-buttons div {\n",
              "      margin-bottom: 4px;\n",
              "    }\n",
              "\n",
              "    [theme=dark] .colab-df-convert {\n",
              "      background-color: #3B4455;\n",
              "      fill: #D2E3FC;\n",
              "    }\n",
              "\n",
              "    [theme=dark] .colab-df-convert:hover {\n",
              "      background-color: #434B5C;\n",
              "      box-shadow: 0px 1px 3px 1px rgba(0, 0, 0, 0.15);\n",
              "      filter: drop-shadow(0px 1px 2px rgba(0, 0, 0, 0.3));\n",
              "      fill: #FFFFFF;\n",
              "    }\n",
              "  </style>\n",
              "\n",
              "    <script>\n",
              "      const buttonEl =\n",
              "        document.querySelector('#df-f43eee16-db65-4fb7-bccc-7bab5b0949f6 button.colab-df-convert');\n",
              "      buttonEl.style.display =\n",
              "        google.colab.kernel.accessAllowed ? 'block' : 'none';\n",
              "\n",
              "      async function convertToInteractive(key) {\n",
              "        const element = document.querySelector('#df-f43eee16-db65-4fb7-bccc-7bab5b0949f6');\n",
              "        const dataTable =\n",
              "          await google.colab.kernel.invokeFunction('convertToInteractive',\n",
              "                                                    [key], {});\n",
              "        if (!dataTable) return;\n",
              "\n",
              "        const docLinkHtml = 'Like what you see? Visit the ' +\n",
              "          '<a target=\"_blank\" href=https://colab.research.google.com/notebooks/data_table.ipynb>data table notebook</a>'\n",
              "          + ' to learn more about interactive tables.';\n",
              "        element.innerHTML = '';\n",
              "        dataTable['output_type'] = 'display_data';\n",
              "        await google.colab.output.renderOutput(dataTable, element);\n",
              "        const docLink = document.createElement('div');\n",
              "        docLink.innerHTML = docLinkHtml;\n",
              "        element.appendChild(docLink);\n",
              "      }\n",
              "    </script>\n",
              "  </div>\n",
              "\n",
              "\n",
              "<div id=\"df-143832a2-6b71-4e77-8f66-e54ca3597814\">\n",
              "  <button class=\"colab-df-quickchart\" onclick=\"quickchart('df-143832a2-6b71-4e77-8f66-e54ca3597814')\"\n",
              "            title=\"Suggest charts\"\n",
              "            style=\"display:none;\">\n",
              "\n",
              "<svg xmlns=\"http://www.w3.org/2000/svg\" height=\"24px\"viewBox=\"0 0 24 24\"\n",
              "     width=\"24px\">\n",
              "    <g>\n",
              "        <path d=\"M19 3H5c-1.1 0-2 .9-2 2v14c0 1.1.9 2 2 2h14c1.1 0 2-.9 2-2V5c0-1.1-.9-2-2-2zM9 17H7v-7h2v7zm4 0h-2V7h2v10zm4 0h-2v-4h2v4z\"/>\n",
              "    </g>\n",
              "</svg>\n",
              "  </button>\n",
              "\n",
              "<style>\n",
              "  .colab-df-quickchart {\n",
              "      --bg-color: #E8F0FE;\n",
              "      --fill-color: #1967D2;\n",
              "      --hover-bg-color: #E2EBFA;\n",
              "      --hover-fill-color: #174EA6;\n",
              "      --disabled-fill-color: #AAA;\n",
              "      --disabled-bg-color: #DDD;\n",
              "  }\n",
              "\n",
              "  [theme=dark] .colab-df-quickchart {\n",
              "      --bg-color: #3B4455;\n",
              "      --fill-color: #D2E3FC;\n",
              "      --hover-bg-color: #434B5C;\n",
              "      --hover-fill-color: #FFFFFF;\n",
              "      --disabled-bg-color: #3B4455;\n",
              "      --disabled-fill-color: #666;\n",
              "  }\n",
              "\n",
              "  .colab-df-quickchart {\n",
              "    background-color: var(--bg-color);\n",
              "    border: none;\n",
              "    border-radius: 50%;\n",
              "    cursor: pointer;\n",
              "    display: none;\n",
              "    fill: var(--fill-color);\n",
              "    height: 32px;\n",
              "    padding: 0;\n",
              "    width: 32px;\n",
              "  }\n",
              "\n",
              "  .colab-df-quickchart:hover {\n",
              "    background-color: var(--hover-bg-color);\n",
              "    box-shadow: 0 1px 2px rgba(60, 64, 67, 0.3), 0 1px 3px 1px rgba(60, 64, 67, 0.15);\n",
              "    fill: var(--button-hover-fill-color);\n",
              "  }\n",
              "\n",
              "  .colab-df-quickchart-complete:disabled,\n",
              "  .colab-df-quickchart-complete:disabled:hover {\n",
              "    background-color: var(--disabled-bg-color);\n",
              "    fill: var(--disabled-fill-color);\n",
              "    box-shadow: none;\n",
              "  }\n",
              "\n",
              "  .colab-df-spinner {\n",
              "    border: 2px solid var(--fill-color);\n",
              "    border-color: transparent;\n",
              "    border-bottom-color: var(--fill-color);\n",
              "    animation:\n",
              "      spin 1s steps(1) infinite;\n",
              "  }\n",
              "\n",
              "  @keyframes spin {\n",
              "    0% {\n",
              "      border-color: transparent;\n",
              "      border-bottom-color: var(--fill-color);\n",
              "      border-left-color: var(--fill-color);\n",
              "    }\n",
              "    20% {\n",
              "      border-color: transparent;\n",
              "      border-left-color: var(--fill-color);\n",
              "      border-top-color: var(--fill-color);\n",
              "    }\n",
              "    30% {\n",
              "      border-color: transparent;\n",
              "      border-left-color: var(--fill-color);\n",
              "      border-top-color: var(--fill-color);\n",
              "      border-right-color: var(--fill-color);\n",
              "    }\n",
              "    40% {\n",
              "      border-color: transparent;\n",
              "      border-right-color: var(--fill-color);\n",
              "      border-top-color: var(--fill-color);\n",
              "    }\n",
              "    60% {\n",
              "      border-color: transparent;\n",
              "      border-right-color: var(--fill-color);\n",
              "    }\n",
              "    80% {\n",
              "      border-color: transparent;\n",
              "      border-right-color: var(--fill-color);\n",
              "      border-bottom-color: var(--fill-color);\n",
              "    }\n",
              "    90% {\n",
              "      border-color: transparent;\n",
              "      border-bottom-color: var(--fill-color);\n",
              "    }\n",
              "  }\n",
              "</style>\n",
              "\n",
              "  <script>\n",
              "    async function quickchart(key) {\n",
              "      const quickchartButtonEl =\n",
              "        document.querySelector('#' + key + ' button');\n",
              "      quickchartButtonEl.disabled = true;  // To prevent multiple clicks.\n",
              "      quickchartButtonEl.classList.add('colab-df-spinner');\n",
              "      try {\n",
              "        const charts = await google.colab.kernel.invokeFunction(\n",
              "            'suggestCharts', [key], {});\n",
              "      } catch (error) {\n",
              "        console.error('Error during call to suggestCharts:', error);\n",
              "      }\n",
              "      quickchartButtonEl.classList.remove('colab-df-spinner');\n",
              "      quickchartButtonEl.classList.add('colab-df-quickchart-complete');\n",
              "    }\n",
              "    (() => {\n",
              "      let quickchartButtonEl =\n",
              "        document.querySelector('#df-143832a2-6b71-4e77-8f66-e54ca3597814 button');\n",
              "      quickchartButtonEl.style.display =\n",
              "        google.colab.kernel.accessAllowed ? 'block' : 'none';\n",
              "    })();\n",
              "  </script>\n",
              "</div>\n",
              "\n",
              "  <div id=\"id_bfd803f2-a74c-4386-b701-902c3914a2a3\">\n",
              "    <style>\n",
              "      .colab-df-generate {\n",
              "        background-color: #E8F0FE;\n",
              "        border: none;\n",
              "        border-radius: 50%;\n",
              "        cursor: pointer;\n",
              "        display: none;\n",
              "        fill: #1967D2;\n",
              "        height: 32px;\n",
              "        padding: 0 0 0 0;\n",
              "        width: 32px;\n",
              "      }\n",
              "\n",
              "      .colab-df-generate:hover {\n",
              "        background-color: #E2EBFA;\n",
              "        box-shadow: 0px 1px 2px rgba(60, 64, 67, 0.3), 0px 1px 3px 1px rgba(60, 64, 67, 0.15);\n",
              "        fill: #174EA6;\n",
              "      }\n",
              "\n",
              "      [theme=dark] .colab-df-generate {\n",
              "        background-color: #3B4455;\n",
              "        fill: #D2E3FC;\n",
              "      }\n",
              "\n",
              "      [theme=dark] .colab-df-generate:hover {\n",
              "        background-color: #434B5C;\n",
              "        box-shadow: 0px 1px 3px 1px rgba(0, 0, 0, 0.15);\n",
              "        filter: drop-shadow(0px 1px 2px rgba(0, 0, 0, 0.3));\n",
              "        fill: #FFFFFF;\n",
              "      }\n",
              "    </style>\n",
              "    <button class=\"colab-df-generate\" onclick=\"generateWithVariable('df')\"\n",
              "            title=\"Generate code using this dataframe.\"\n",
              "            style=\"display:none;\">\n",
              "\n",
              "  <svg xmlns=\"http://www.w3.org/2000/svg\" height=\"24px\"viewBox=\"0 0 24 24\"\n",
              "       width=\"24px\">\n",
              "    <path d=\"M7,19H8.4L18.45,9,17,7.55,7,17.6ZM5,21V16.75L18.45,3.32a2,2,0,0,1,2.83,0l1.4,1.43a1.91,1.91,0,0,1,.58,1.4,1.91,1.91,0,0,1-.58,1.4L9.25,21ZM18.45,9,17,7.55Zm-12,3A5.31,5.31,0,0,0,4.9,8.1,5.31,5.31,0,0,0,1,6.5,5.31,5.31,0,0,0,4.9,4.9,5.31,5.31,0,0,0,6.5,1,5.31,5.31,0,0,0,8.1,4.9,5.31,5.31,0,0,0,12,6.5,5.46,5.46,0,0,0,6.5,12Z\"/>\n",
              "  </svg>\n",
              "    </button>\n",
              "    <script>\n",
              "      (() => {\n",
              "      const buttonEl =\n",
              "        document.querySelector('#id_bfd803f2-a74c-4386-b701-902c3914a2a3 button.colab-df-generate');\n",
              "      buttonEl.style.display =\n",
              "        google.colab.kernel.accessAllowed ? 'block' : 'none';\n",
              "\n",
              "      buttonEl.onclick = () => {\n",
              "        google.colab.notebook.generateWithVariable('df');\n",
              "      }\n",
              "      })();\n",
              "    </script>\n",
              "  </div>\n",
              "\n",
              "    </div>\n",
              "  </div>\n"
            ],
            "application/vnd.google.colaboratory.intrinsic+json": {
              "type": "dataframe",
              "variable_name": "df",
              "summary": "{\n  \"name\": \"df\",\n  \"rows\": 10415,\n  \"fields\": [\n    {\n      \"column\": \"OFFER_NAME\",\n      \"properties\": {\n        \"dtype\": \"number\",\n        \"std\": 43,\n        \"min\": 0,\n        \"max\": 140,\n        \"num_unique_values\": 141,\n        \"samples\": [\n          103,\n          111,\n          121\n        ],\n        \"semantic_type\": \"\",\n        \"description\": \"\"\n      }\n    },\n    {\n      \"column\": \"CUSTOMER_TYPE\",\n      \"properties\": {\n        \"dtype\": \"number\",\n        \"std\": 0,\n        \"min\": 0,\n        \"max\": 1,\n        \"num_unique_values\": 2,\n        \"samples\": [\n          1,\n          0\n        ],\n        \"semantic_type\": \"\",\n        \"description\": \"\"\n      }\n    },\n    {\n      \"column\": \"CUSTOMER_GROUP\",\n      \"properties\": {\n        \"dtype\": \"number\",\n        \"std\": 24,\n        \"min\": 0,\n        \"max\": 73,\n        \"num_unique_values\": 74,\n        \"samples\": [\n          14,\n          44\n        ],\n        \"semantic_type\": \"\",\n        \"description\": \"\"\n      }\n    },\n    {\n      \"column\": \"CURRENT_STATUS\",\n      \"properties\": {\n        \"dtype\": \"number\",\n        \"std\": 0,\n        \"min\": 0,\n        \"max\": 1,\n        \"num_unique_values\": 2,\n        \"samples\": [\n          0,\n          1\n        ],\n        \"semantic_type\": \"\",\n        \"description\": \"\"\n      }\n    },\n    {\n      \"column\": \"ESCALATION_FLAG\",\n      \"properties\": {\n        \"dtype\": \"number\",\n        \"std\": 0,\n        \"min\": 0,\n        \"max\": 1,\n        \"num_unique_values\": 2,\n        \"samples\": [\n          0,\n          1\n        ],\n        \"semantic_type\": \"\",\n        \"description\": \"\"\n      }\n    },\n    {\n      \"column\": \"OPEN_USER\",\n      \"properties\": {\n        \"dtype\": \"number\",\n        \"std\": 86,\n        \"min\": 0,\n        \"max\": 271,\n        \"num_unique_values\": 272,\n        \"samples\": [\n          262,\n          264\n        ],\n        \"semantic_type\": \"\",\n        \"description\": \"\"\n      }\n    },\n    {\n      \"column\": \"CLOSE_GROUP\",\n      \"properties\": {\n        \"dtype\": \"number\",\n        \"std\": 17,\n        \"min\": 0,\n        \"max\": 46,\n        \"num_unique_values\": 47,\n        \"samples\": [\n          27,\n          32\n        ],\n        \"semantic_type\": \"\",\n        \"description\": \"\"\n      }\n    },\n    {\n      \"column\": \"CLOSE_USER\",\n      \"properties\": {\n        \"dtype\": \"number\",\n        \"std\": 84,\n        \"min\": 0,\n        \"max\": 289,\n        \"num_unique_values\": 290,\n        \"samples\": [\n          221,\n          145\n        ],\n        \"semantic_type\": \"\",\n        \"description\": \"\"\n      }\n    },\n    {\n      \"column\": \"AGE_BRACKET\",\n      \"properties\": {\n        \"dtype\": \"number\",\n        \"std\": 2.9610798415214723,\n        \"min\": 1.0,\n        \"max\": 116.0,\n        \"num_unique_values\": 39,\n        \"samples\": [\n          91.0,\n          30.0\n        ],\n        \"semantic_type\": \"\",\n        \"description\": \"\"\n      }\n    },\n    {\n      \"column\": \"ACTUAL_COMPLAINT\",\n      \"properties\": {\n        \"dtype\": \"number\",\n        \"std\": 0,\n        \"min\": 0,\n        \"max\": 2,\n        \"num_unique_values\": 3,\n        \"samples\": [\n          0,\n          1\n        ],\n        \"semantic_type\": \"\",\n        \"description\": \"\"\n      }\n    },\n    {\n      \"column\": \"OPEN_GR\",\n      \"properties\": {\n        \"dtype\": \"number\",\n        \"std\": 7,\n        \"min\": 0,\n        \"max\": 18,\n        \"num_unique_values\": 19,\n        \"samples\": [\n          10,\n          4\n        ],\n        \"semantic_type\": \"\",\n        \"description\": \"\"\n      }\n    },\n    {\n      \"column\": \"COMPLAINT_TYPE\",\n      \"properties\": {\n        \"dtype\": \"number\",\n        \"std\": 0,\n        \"min\": 0,\n        \"max\": 1,\n        \"num_unique_values\": 2,\n        \"samples\": [\n          0,\n          1\n        ],\n        \"semantic_type\": \"\",\n        \"description\": \"\"\n      }\n    },\n    {\n      \"column\": \"PRODUCT\",\n      \"properties\": {\n        \"dtype\": \"number\",\n        \"std\": 0,\n        \"min\": 0,\n        \"max\": 1,\n        \"num_unique_values\": 2,\n        \"samples\": [\n          1,\n          0\n        ],\n        \"semantic_type\": \"\",\n        \"description\": \"\"\n      }\n    },\n    {\n      \"column\": \"CASE\",\n      \"properties\": {\n        \"dtype\": \"number\",\n        \"std\": 1,\n        \"min\": 0,\n        \"max\": 4,\n        \"num_unique_values\": 5,\n        \"samples\": [\n          0,\n          2\n        ],\n        \"semantic_type\": \"\",\n        \"description\": \"\"\n      }\n    }\n  ]\n}"
            }
          },
          "metadata": {},
          "execution_count": 13
        }
      ]
    },
    {
      "cell_type": "code",
      "source": [
        "y = df[\"COMPLAINT_TYPE\"]\n",
        "x = df.drop([\"COMPLAINT_TYPE\", \"OPEN_USER\", \"OPEN_GR\", \"CLOSE_USER\", \"CLOSE_GROUP\"], axis = 1)"
      ],
      "metadata": {
        "id": "Gg8SHjEKzsHp"
      },
      "execution_count": 14,
      "outputs": []
    },
    {
      "cell_type": "code",
      "source": [
        "sc = StandardScaler()\n",
        "x = sc.fit_transform(x)"
      ],
      "metadata": {
        "id": "oaOOhRqUyEur"
      },
      "execution_count": 15,
      "outputs": []
    },
    {
      "cell_type": "code",
      "source": [
        "x_train, x_test, y_train, y_test = train_test_split(x, y, test_size = 0.3, random_state = 0)"
      ],
      "metadata": {
        "id": "ROsYMAqs9ceJ"
      },
      "execution_count": 16,
      "outputs": []
    },
    {
      "cell_type": "code",
      "source": [
        "smote = SMOTE()\n",
        "x_train, y_train = smote.fit_resample(x_train, y_train)"
      ],
      "metadata": {
        "id": "cW7SltbuyT2n"
      },
      "execution_count": 17,
      "outputs": []
    },
    {
      "cell_type": "markdown",
      "source": [
        "# **ML Models**"
      ],
      "metadata": {
        "id": "fE7WjSxtyW8O"
      }
    },
    {
      "cell_type": "markdown",
      "source": [
        "**KNN**"
      ],
      "metadata": {
        "id": "BElFi5dZyb75"
      }
    },
    {
      "cell_type": "code",
      "source": [
        "numSplits = 5\n",
        "kfold = StratifiedKFold(n_splits=numSplits, shuffle=True, random_state=1024)\n",
        "print(kfold)\n",
        "\n",
        "nList = [i for i in range(2, 10)]\n",
        "train_scores, test_scores = [], []\n",
        "avg_precision, avg_recall, avg_f1 = [], [], []\n",
        "\n",
        "for n in nList:\n",
        "    print('\\nn neighbors:', n)\n",
        "    trainFoldScoreList = []\n",
        "    testFoldScoreList = []\n",
        "    precisionList, recallList, f1List = [], [], []\n",
        "\n",
        "    for i, (train_index, test_index) in enumerate(kfold.split(x, y)):\n",
        "        print('\\tfold:', i)\n",
        "        knn = KNeighborsClassifier(n_neighbors=n)\n",
        "\n",
        "        knn.fit(x_train, y_train)\n",
        "\n",
        "        train_yhat = knn.predict(x_train)\n",
        "        train_acc = accuracy_score(y_train, train_yhat)\n",
        "        print('\\t\\ttrain_acc:', train_acc)\n",
        "\n",
        "        test_yhat = knn.predict(x_test)\n",
        "        test_acc = accuracy_score(y_test, test_yhat)\n",
        "        print('\\t\\ttest_acc:', test_acc)\n",
        "\n",
        "        prec = precision_score(y_test, test_yhat)\n",
        "        rec = recall_score(y_test, test_yhat)\n",
        "        f1 = f1_score(y_test, test_yhat)\n",
        "\n",
        "        trainFoldScoreList.append(train_acc)\n",
        "        testFoldScoreList.append(test_acc)\n",
        "        precisionList.append(prec)\n",
        "        recallList.append(rec)\n",
        "        f1List.append(f1)\n",
        "\n",
        "    avgTrainAccuracy = np.mean(trainFoldScoreList)\n",
        "    avgTestAccuracy = np.mean(testFoldScoreList)\n",
        "    avgPrecision = np.mean(precisionList)\n",
        "    avgRecall = np.mean(recallList)\n",
        "    avgF1 = np.mean(f1List)\n",
        "\n",
        "    print(\"\\tAvg train Accuracy:\", avgTrainAccuracy)\n",
        "    print(\"\\tAvg test Accuracy:\", avgTestAccuracy)\n",
        "    print(\"\\tAvg Precision:\", avgPrecision)\n",
        "    print(\"\\tAvg Recall:\", avgRecall)\n",
        "    print(\"\\tAvg F1-score:\", avgF1)\n",
        "\n",
        "    train_scores.append(avgTrainAccuracy)\n",
        "    test_scores.append(avgTestAccuracy)\n",
        "    avg_precision.append(avgPrecision)\n",
        "    avg_recall.append(avgRecall)\n",
        "    avg_f1.append(avgF1)"
      ],
      "metadata": {
        "colab": {
          "base_uri": "https://localhost:8080/"
        },
        "collapsed": true,
        "id": "nqkWyCQKysyS",
        "outputId": "297dee8c-d482-4cd3-e829-fa48f50a1779"
      },
      "execution_count": 18,
      "outputs": [
        {
          "output_type": "stream",
          "name": "stdout",
          "text": [
            "StratifiedKFold(n_splits=5, random_state=1024, shuffle=True)\n",
            "\n",
            "n neighbors: 2\n",
            "\tfold: 0\n",
            "\t\ttrain_acc: 0.9938370846730975\n",
            "\t\ttest_acc: 0.984\n",
            "\tfold: 1\n",
            "\t\ttrain_acc: 0.9938370846730975\n",
            "\t\ttest_acc: 0.984\n",
            "\tfold: 2\n",
            "\t\ttrain_acc: 0.9938370846730975\n",
            "\t\ttest_acc: 0.984\n",
            "\tfold: 3\n",
            "\t\ttrain_acc: 0.9938370846730975\n",
            "\t\ttest_acc: 0.984\n",
            "\tfold: 4\n",
            "\t\ttrain_acc: 0.9938370846730975\n",
            "\t\ttest_acc: 0.984\n",
            "\tAvg train Accuracy: 0.9938370846730976\n",
            "\tAvg test Accuracy: 0.984\n",
            "\tAvg Precision: 0.9948453608247423\n",
            "\tAvg Recall: 0.9838572642310959\n",
            "\tAvg F1-score: 0.9893208030756087\n",
            "\n",
            "n neighbors: 3\n",
            "\tfold: 0\n",
            "\t\ttrain_acc: 0.9944623079671311\n",
            "\t\ttest_acc: 0.98688\n",
            "\tfold: 1\n",
            "\t\ttrain_acc: 0.9944623079671311\n",
            "\t\ttest_acc: 0.98688\n",
            "\tfold: 2\n",
            "\t\ttrain_acc: 0.9944623079671311\n",
            "\t\ttest_acc: 0.98688\n",
            "\tfold: 3\n",
            "\t\ttrain_acc: 0.9944623079671311\n",
            "\t\ttest_acc: 0.98688\n",
            "\tfold: 4\n",
            "\t\ttrain_acc: 0.9944623079671311\n",
            "\t\ttest_acc: 0.98688\n",
            "\tAvg train Accuracy: 0.9944623079671311\n",
            "\tAvg test Accuracy: 0.98688\n",
            "\tAvg Precision: 0.9927567106945038\n",
            "\tAvg Recall: 0.989804587935429\n",
            "\tAvg F1-score: 0.9912784513933206\n",
            "\n",
            "n neighbors: 4\n",
            "\tfold: 0\n",
            "\t\ttrain_acc: 0.9940157198999643\n",
            "\t\ttest_acc: 0.9856\n",
            "\tfold: 1\n",
            "\t\ttrain_acc: 0.9940157198999643\n",
            "\t\ttest_acc: 0.9856\n",
            "\tfold: 2\n",
            "\t\ttrain_acc: 0.9940157198999643\n",
            "\t\ttest_acc: 0.9856\n",
            "\tfold: 3\n",
            "\t\ttrain_acc: 0.9940157198999643\n",
            "\t\ttest_acc: 0.9856\n",
            "\tfold: 4\n",
            "\t\ttrain_acc: 0.9940157198999643\n",
            "\t\ttest_acc: 0.9856\n",
            "\tAvg train Accuracy: 0.9940157198999643\n",
            "\tAvg test Accuracy: 0.9856\n",
            "\tAvg Precision: 0.9931653139683896\n",
            "\tAvg Recall: 0.98768054375531\n",
            "\tAvg F1-score: 0.9904153354632588\n",
            "\n",
            "n neighbors: 5\n",
            "\tfold: 0\n",
            "\t\ttrain_acc: 0.9930332261521972\n",
            "\t\ttest_acc: 0.98528\n",
            "\tfold: 1\n",
            "\t\ttrain_acc: 0.9930332261521972\n",
            "\t\ttest_acc: 0.98528\n",
            "\tfold: 2\n",
            "\t\ttrain_acc: 0.9930332261521972\n",
            "\t\ttest_acc: 0.98528\n",
            "\tfold: 3\n",
            "\t\ttrain_acc: 0.9930332261521972\n",
            "\t\ttest_acc: 0.98528\n",
            "\tfold: 4\n",
            "\t\ttrain_acc: 0.9930332261521972\n",
            "\t\ttest_acc: 0.98528\n",
            "\tAvg train Accuracy: 0.9930332261521972\n",
            "\tAvg test Accuracy: 0.98528\n",
            "\tAvg Precision: 0.9902293967714527\n",
            "\tAvg Recall: 0.9902293967714527\n",
            "\tAvg F1-score: 0.9902293967714527\n",
            "\n",
            "n neighbors: 6\n",
            "\tfold: 0\n",
            "\t\ttrain_acc: 0.9925866380850303\n",
            "\t\ttest_acc: 0.984\n",
            "\tfold: 1\n",
            "\t\ttrain_acc: 0.9925866380850303\n",
            "\t\ttest_acc: 0.984\n",
            "\tfold: 2\n",
            "\t\ttrain_acc: 0.9925866380850303\n",
            "\t\ttest_acc: 0.984\n",
            "\tfold: 3\n",
            "\t\ttrain_acc: 0.9925866380850303\n",
            "\t\ttest_acc: 0.984\n",
            "\tfold: 4\n",
            "\t\ttrain_acc: 0.9925866380850303\n",
            "\t\ttest_acc: 0.984\n",
            "\tAvg train Accuracy: 0.9925866380850303\n",
            "\tAvg test Accuracy: 0.984\n",
            "\tAvg Precision: 0.9927288280581694\n",
            "\tAvg Recall: 0.9859813084112151\n",
            "\tAvg F1-score: 0.9893435635123614\n",
            "\n",
            "n neighbors: 7\n",
            "\tfold: 0\n",
            "\t\ttrain_acc: 0.99151482672383\n",
            "\t\ttest_acc: 0.98528\n",
            "\tfold: 1\n",
            "\t\ttrain_acc: 0.99151482672383\n",
            "\t\ttest_acc: 0.98528\n",
            "\tfold: 2\n",
            "\t\ttrain_acc: 0.99151482672383\n",
            "\t\ttest_acc: 0.98528\n",
            "\tfold: 3\n",
            "\t\ttrain_acc: 0.99151482672383\n",
            "\t\ttest_acc: 0.98528\n",
            "\tfold: 4\n",
            "\t\ttrain_acc: 0.99151482672383\n",
            "\t\ttest_acc: 0.98528\n",
            "\tAvg train Accuracy: 0.99151482672383\n",
            "\tAvg test Accuracy: 0.98528\n",
            "\tAvg Precision: 0.9919011082693947\n",
            "\tAvg Recall: 0.9885301614273578\n",
            "\tAvg F1-score: 0.9902127659574468\n",
            "\n",
            "n neighbors: 8\n",
            "\tfold: 0\n",
            "\t\ttrain_acc: 0.9909789210432297\n",
            "\t\ttest_acc: 0.98336\n",
            "\tfold: 1\n",
            "\t\ttrain_acc: 0.9909789210432297\n",
            "\t\ttest_acc: 0.98336\n",
            "\tfold: 2\n",
            "\t\ttrain_acc: 0.9909789210432297\n",
            "\t\ttest_acc: 0.98336\n",
            "\tfold: 3\n",
            "\t\ttrain_acc: 0.9909789210432297\n",
            "\t\ttest_acc: 0.98336\n",
            "\tfold: 4\n",
            "\t\ttrain_acc: 0.9909789210432297\n",
            "\t\ttest_acc: 0.98336\n",
            "\tAvg train Accuracy: 0.9909789210432297\n",
            "\tAvg test Accuracy: 0.98336\n",
            "\tAvg Precision: 0.9923011120615911\n",
            "\tAvg Recall: 0.9855564995751912\n",
            "\tAvg F1-score: 0.988917306052856\n",
            "\n",
            "n neighbors: 9\n",
            "\tfold: 0\n",
            "\t\ttrain_acc: 0.990085744908896\n",
            "\t\ttest_acc: 0.984\n",
            "\tfold: 1\n",
            "\t\ttrain_acc: 0.990085744908896\n",
            "\t\ttest_acc: 0.984\n",
            "\tfold: 2\n",
            "\t\ttrain_acc: 0.990085744908896\n",
            "\t\ttest_acc: 0.984\n",
            "\tfold: 3\n",
            "\t\ttrain_acc: 0.990085744908896\n",
            "\t\ttest_acc: 0.984\n",
            "\tfold: 4\n",
            "\t\ttrain_acc: 0.990085744908896\n",
            "\t\ttest_acc: 0.984\n",
            "\tAvg train Accuracy: 0.990085744908896\n",
            "\tAvg test Accuracy: 0.984\n",
            "\tAvg Precision: 0.9910485933503835\n",
            "\tAvg Recall: 0.98768054375531\n",
            "\tAvg F1-score: 0.9893617021276595\n"
          ]
        }
      ]
    },
    {
      "cell_type": "code",
      "source": [
        "plt.figure(figsize=(12, 6))\n",
        "plt.plot(nList, train_scores, '-o', label='Train Accuracy')\n",
        "plt.plot(nList, test_scores, '-o', label='Test Accuracy')\n",
        "plt.legend()\n",
        "plt.title(\"KNN Train vs. Test Accuracy\")\n",
        "plt.xlabel(\"Number of Neighbors\")\n",
        "plt.ylabel(\"Scores\")\n",
        "plt.grid(True)\n",
        "plt.show()"
      ],
      "metadata": {
        "colab": {
          "base_uri": "https://localhost:8080/",
          "height": 564
        },
        "id": "XTVtF6hbzQdC",
        "outputId": "9cccb3f0-dc51-401d-b44f-ebc4bc47ba3c"
      },
      "execution_count": 19,
      "outputs": [
        {
          "output_type": "display_data",
          "data": {
            "text/plain": [
              "<Figure size 1200x600 with 1 Axes>"
            ],
            "image/png": "[encoded data removed]"
          },
          "metadata": {}
        }
      ]
    },
    {
      "cell_type": "code",
      "source": [
        "knn = KNeighborsClassifier(n_neighbors=7)\n",
        "knn_acc = []\n",
        "knn_rec = []\n",
        "knn_pre = []\n",
        "knn_f1 = []\n",
        "\n",
        "for i, (train_index, test_index) in enumerate(kfold.split(x, y)):\n",
        "  for i in range(30):\n",
        "    knn.fit(x_train, y_train)\n",
        "    y_pred = knn.predict(x_test)\n",
        "\n",
        "    acc = accuracy_score(y_test, y_pred)\n",
        "    knn_acc.append(acc)\n",
        "\n",
        "    rec = recall_score(y_test, y_pred)\n",
        "    knn_rec.append(rec)\n",
        "\n",
        "    pre = precision_score(y_test, y_pred)\n",
        "    knn_pre.append(pre)\n",
        "\n",
        "    f1 = f1_score(y_test, y_pred)\n",
        "    knn_f1.append(f1)\n"
      ],
      "metadata": {
        "id": "AobRQBVl-led"
      },
      "execution_count": 21,
      "outputs": []
    },
    {
      "cell_type": "markdown",
      "source": [
        "**Logisitic Regresion**"
      ],
      "metadata": {
        "id": "V1SBSX_e8uLn"
      }
    },
    {
      "cell_type": "code",
      "source": [
        "lr = LogisticRegression()"
      ],
      "metadata": {
        "id": "fWeLd-KwFoQa"
      },
      "execution_count": 22,
      "outputs": []
    },
    {
      "cell_type": "code",
      "source": [
        "lr_acc = []\n",
        "lr_pre = []\n",
        "lr_rec = []\n",
        "lr_f1 = []\n",
        "for i, (train_index, test_index) in enumerate(kfold.split(x, y)):\n",
        "  for q in range(30):\n",
        "\n",
        "    lr.fit(x_train, y_train)\n",
        "    y_pred = lr.predict(x_test)\n",
        "\n",
        "    acc1 = accuracy_score(y_test, y_pred)\n",
        "    lr_acc.append(acc1)\n",
        "\n",
        "    rec1 = recall_score(y_test, y_pred)\n",
        "    lr_rec.append(rec1)\n",
        "\n",
        "    pre1 = precision_score(y_test, y_pred)\n",
        "    lr_pre.append(pre1)\n",
        "\n",
        "    f1_1 = f1_score(y_test, y_pred)\n",
        "    lr_f1.append(f1_1)"
      ],
      "metadata": {
        "id": "hvoUxIyRGACO",
        "collapsed": true
      },
      "execution_count": 23,
      "outputs": []
    },
    {
      "cell_type": "markdown",
      "source": [
        "**Decison Tree**"
      ],
      "metadata": {
        "id": "tYKtXFFe801r"
      }
    },
    {
      "cell_type": "code",
      "source": [
        "dec = DecisionTreeClassifier()"
      ],
      "metadata": {
        "id": "wVyjfrcaHeuK"
      },
      "execution_count": 24,
      "outputs": []
    },
    {
      "cell_type": "code",
      "source": [
        "dec_acc = []\n",
        "dec_rec = []\n",
        "dec_pre = []\n",
        "dec_f1 = []\n",
        "\n",
        "for i, (train_index, test_index) in enumerate(kfold.split(x, y)):\n",
        "  for w in range(30):\n",
        "\n",
        "    dec.fit(x_train, y_train)\n",
        "    y_pred = dec.predict(x_test)\n",
        "\n",
        "    acc2 = accuracy_score(y_test, y_pred)\n",
        "    dec_acc.append(acc2)\n",
        "\n",
        "    rec2 = recall_score(y_test, y_pred)\n",
        "    dec_rec.append(rec2)\n",
        "\n",
        "    pre2 = precision_score(y_test, y_pred)\n",
        "    dec_pre.append(pre2)\n",
        "\n",
        "    f1_2 = f1_score(y_test, y_pred)\n",
        "    dec_f1.append(f1_2)"
      ],
      "metadata": {
        "id": "fXovl3DFHzob"
      },
      "execution_count": 25,
      "outputs": []
    },
    {
      "cell_type": "markdown",
      "source": [
        "**Naive Bayes**"
      ],
      "metadata": {
        "id": "5MSWrVPO86X8"
      }
    },
    {
      "cell_type": "code",
      "source": [
        "gnb = GaussianNB()"
      ],
      "metadata": {
        "id": "p6OiBEOcIKZg"
      },
      "execution_count": 26,
      "outputs": []
    },
    {
      "cell_type": "code",
      "source": [
        "gnb_acc = []\n",
        "gnb_rec = []\n",
        "gnb_pre = []\n",
        "gnb_f1 = []\n",
        "\n",
        "for i, (train_index, test_index) in enumerate(kfold.split(x, y)):\n",
        "  for l in range(30):\n",
        "\n",
        "    gnb.fit(x_train, y_train)\n",
        "    y_pred = gnb.predict(x_test)\n",
        "\n",
        "    acc4 = accuracy_score(y_test, y_pred)\n",
        "    gnb_acc.append(acc4)\n",
        "\n",
        "    rec4 = recall_score(y_test, y_pred)\n",
        "    gnb_rec.append(rec4)\n",
        "\n",
        "    pre4 = precision_score(y_test, y_pred)\n",
        "    gnb_pre.append(pre4)\n",
        "\n",
        "    f1_4 = f1_score(y_test, y_pred)\n",
        "    gnb_f1.append(f1_4)"
      ],
      "metadata": {
        "id": "ovDAFpfhIqDg"
      },
      "execution_count": 27,
      "outputs": []
    },
    {
      "cell_type": "markdown",
      "source": [
        "# **Calculation and Visualization**"
      ],
      "metadata": {
        "id": "T3UoyZrc_LEb"
      }
    },
    {
      "cell_type": "code",
      "source": [
        "print(\"KNN_7 acc:\", sum(knn_acc)/len(knn_acc))\n",
        "\n",
        "print(\"LR acc:\", sum(lr_acc)/len(lr_acc))\n",
        "\n",
        "print(\"DT acc:\", sum(dec_acc)/len(dec_acc))\n",
        "\n",
        "print(\"NB acc:\", sum(gnb_acc)/len(gnb_acc))\n"
      ],
      "metadata": {
        "id": "ooqAoIBc-iuk",
        "colab": {
          "base_uri": "https://localhost:8080/"
        },
        "outputId": "c5f9f6a0-c672-48b3-ac47-bb555cbc81d7"
      },
      "execution_count": 34,
      "outputs": [
        {
          "output_type": "stream",
          "name": "stdout",
          "text": [
            "KNN_7 acc: 0.9852800000000004\n",
            "LR acc: 0.9875200000000008\n",
            "DT acc: 0.9860287999999986\n",
            "NB acc: 0.9811200000000018\n"
          ]
        }
      ]
    },
    {
      "cell_type": "code",
      "source": [
        "print(\"KNN_7 rec:\", sum(knn_rec)/len(knn_rec))\n",
        "\n",
        "print(\"LR rec:\", sum(lr_rec)/len(lr_rec))\n",
        "\n",
        "print(\"DT rec:\", sum(dec_rec)/len(dec_rec))\n",
        "\n",
        "print(\"NB rec:\", sum(gnb_rec)/len(gnb_rec))"
      ],
      "metadata": {
        "colab": {
          "base_uri": "https://localhost:8080/"
        },
        "id": "mWR0wVpNFrVy",
        "outputId": "f65288c5-506a-4993-98ec-4e25421413e1"
      },
      "execution_count": 35,
      "outputs": [
        {
          "output_type": "stream",
          "name": "stdout",
          "text": [
            "KNN_7 rec: 0.9885301614273586\n",
            "LR rec: 0.9940526762956667\n",
            "DT rec: 0.9883460775984139\n",
            "NB rec: 0.9851316907391665\n"
          ]
        }
      ]
    },
    {
      "cell_type": "code",
      "source": [
        "print(\"KNN_7 pre:\", sum(knn_pre)/len(knn_pre))\n",
        "\n",
        "print(\"LR pre:\", sum(lr_pre)/len(lr_pre))\n",
        "\n",
        "print(\"DT pre:\", sum(dec_pre)/len(dec_pre))\n",
        "\n",
        "print(\"NB pre:\", sum(gnb_pre)/len(gnb_pre))"
      ],
      "metadata": {
        "colab": {
          "base_uri": "https://localhost:8080/"
        },
        "id": "jLIbOYCkGukS",
        "outputId": "e63a85c5-a388-4854-a1b5-5a97288f6097"
      },
      "execution_count": 36,
      "outputs": [
        {
          "output_type": "stream",
          "name": "stdout",
          "text": [
            "KNN_7 pre: 0.9919011082693915\n",
            "LR pre: 0.9894291754756896\n",
            "DT pre: 0.9930737764360438\n",
            "NB pre: 0.9897567221510881\n"
          ]
        }
      ]
    },
    {
      "cell_type": "code",
      "source": [
        "print(\"KNN_7 f1:\", sum(knn_f1)/len(knn_f1))\n",
        "\n",
        "print(\"LR f1:\", sum(lr_f1)/len(lr_f1))\n",
        "\n",
        "print(\"DT f1:\", sum(dec_f1)/len(dec_f1))\n",
        "\n",
        "print(\"NB f1:\", sum(gnb_f1)/len(gnb_f1))"
      ],
      "metadata": {
        "colab": {
          "base_uri": "https://localhost:8080/"
        },
        "id": "exdBcld2HWIr",
        "outputId": "bf69b184-80b9-4c88-e5d5-3ffe8d80e37a"
      },
      "execution_count": 37,
      "outputs": [
        {
          "output_type": "stream",
          "name": "stdout",
          "text": [
            "KNN_7 f1: 0.9902127659574474\n",
            "LR f1: 0.9917355371900832\n",
            "DT f1: 0.9907042264892487\n",
            "NB f1: 0.9874387907174772\n"
          ]
        }
      ]
    },
    {
      "cell_type": "code",
      "source": [
        "x_ax = ('Accuracy', 'Recall', 'Precision', 'F1_score')\n",
        "\n",
        "gn = (sum(gnb_acc) / len(gnb_acc), sum(gnb_rec) / len(gnb_rec), sum(gnb_pre) / len(gnb_pre), sum(gnb_f1) / len(gnb_f1))\n",
        "\n",
        "knn_3 = (sum(knn_acc) / len(knn_acc), sum(knn_rec) / len(knn_rec), sum(knn_pre) / len(knn_pre), sum(knn_f1) / len(knn_f1))\n",
        "\n",
        "lrg = (sum(lr_acc) / len(lr_acc), sum(lr_rec) / len(lr_rec), sum(lr_pre) / len(lr_pre), sum(lr_f1) / len(lr_f1))\n",
        "\n",
        "dect = (sum(dec_acc) / len(dec_acc), sum(dec_rec) / len(dec_rec), sum(dec_pre) / len(dec_pre), sum(dec_f1) / len(dec_f1))\n",
        "\n",
        "plt.figure(figsize=(20, 6))\n",
        "\n",
        "X_axis = np.arange(len(x_ax))\n",
        "\n",
        "plt.bar(X_axis + 0.15, gn, color ='blue',width = 0.19,edgecolor = 'black',label = 'Naive Bayes')\n",
        "\n",
        "plt.bar(X_axis + 0.34, knn_3, color ='orange',width = 0.19,edgecolor = 'black',label = 'KNN_3')\n",
        "\n",
        "plt.bar(X_axis + 0.53, lrg, color ='red',width = 0.19,edgecolor = 'black',label = 'lrgisticRegression')\n",
        "\n",
        "plt.bar(X_axis + 0.72, dect, color ='yellow',width = 0.19,edgecolor = 'black',label = 'DecisionTree')\n",
        "\n",
        "plt.ylim(0.9, 1)\n",
        "plt.xticks(X_axis+0.435, x_ax)\n",
        "plt.legend(bbox_to_anchor=(1, 1))\n",
        "\n",
        "plt.xlabel(\"Models Name\")\n",
        "plt.ylabel(\"Percentage\")\n",
        "plt.title(\"Summary of Results\")\n",
        "plt.show()\n"
      ],
      "metadata": {
        "colab": {
          "base_uri": "https://localhost:8080/",
          "height": 444
        },
        "id": "8IlX2j4doEbF",
        "outputId": "81eae9a0-408b-468f-9077-0822ebf2be89"
      },
      "execution_count": 38,
      "outputs": [
        {
          "output_type": "display_data",
          "data": {
            "text/plain": [
              "<Figure size 2000x600 with 1 Axes>"
            ],
            "image/png": "[encoded data removed]"
          },
          "metadata": {}
        }
      ]
    },
    {
      "cell_type": "code",
      "source": [
        "data_1 = np.array(gnb_acc)\n",
        "\n",
        "data_2 = np.array(knn_acc)\n",
        "\n",
        "data_3 = np.array(dec_acc)\n",
        "\n",
        "data_4 = np.array(lr_acc)\n",
        "\n",
        "dict1 = {'NB': data_1, 'KNN_7': data_2,'DT': data_3, 'LR': data_4}\n",
        "\n",
        "plt.figure(figsize=(10, 5))\n",
        "fig, ax = plt.subplots()\n",
        "ax.boxplot(dict1.values())\n",
        "ax.set_xticklabels(dict1.keys())\n",
        "plt.xlabel(\"Models Name\")\n",
        "plt.ylabel(\"Accuracy Percentage\")\n",
        "plt.title(\"Accuracy graph\")\n",
        "\n",
        "plt.show()"
      ],
      "metadata": {
        "id": "B5-05loiJWFj",
        "colab": {
          "base_uri": "https://localhost:8080/",
          "height": 489
        },
        "outputId": "f962380f-1ad8-4ef3-c655-36ab907348e2"
      },
      "execution_count": 39,
      "outputs": [
        {
          "output_type": "display_data",
          "data": {
            "text/plain": [
              "<Figure size 1000x500 with 0 Axes>"
            ]
          },
          "metadata": {}
        },
        {
          "output_type": "display_data",
          "data": {
            "text/plain": [
              "<Figure size 640x480 with 1 Axes>"
            ],
            "image/png": "[encoded data removed]"
          },
          "metadata": {}
        }
      ]
    },
    {
      "cell_type": "code",
      "source": [
        "data_6 = np.array(gnb_rec)\n",
        "\n",
        "data_7 = np.array(knn_rec)\n",
        "\n",
        "data_8 = np.array(dec_rec)\n",
        "\n",
        "data_9 = np.array(lr_rec)\n",
        "\n",
        "dict2 = {'NB': data_6, 'KNN_7': data_7,'DT': data_8, 'LR': data_9}\n",
        "\n",
        "plt.figure(figsize=(10, 5))\n",
        "fig, ax = plt.subplots()\n",
        "ax.boxplot(dict2.values())\n",
        "ax.set_xticklabels(dict2.keys())\n",
        "plt.xlabel(\"Models Name\")\n",
        "plt.ylabel(\"Recall Percentage\")\n",
        "plt.title(\"Recall graph\")\n",
        "\n",
        "plt.show()"
      ],
      "metadata": {
        "colab": {
          "base_uri": "https://localhost:8080/",
          "height": 489
        },
        "id": "6BmVPOoYxBMC",
        "outputId": "dc8dc91a-5212-4055-a0e0-7a0d9664bb19"
      },
      "execution_count": 40,
      "outputs": [
        {
          "output_type": "display_data",
          "data": {
            "text/plain": [
              "<Figure size 1000x500 with 0 Axes>"
            ]
          },
          "metadata": {}
        },
        {
          "output_type": "display_data",
          "data": {
            "text/plain": [
              "<Figure size 640x480 with 1 Axes>"
            ],
            "image/png": "[encoded data removed]"
          },
          "metadata": {}
        }
      ]
    },
    {
      "cell_type": "code",
      "source": [
        "data_11 = np.array(gnb_pre)\n",
        "\n",
        "data_12 = np.array(knn_pre)\n",
        "\n",
        "data_13 = np.array(dec_pre)\n",
        "\n",
        "data_14 = np.array(lr_pre)\n",
        "\n",
        "dict3 = {'NB': data_11, 'KNN_7': data_12,'DT': data_13, 'LR': data_14}\n",
        "\n",
        "plt.figure(figsize=(10, 5))\n",
        "fig, ax = plt.subplots()\n",
        "ax.boxplot(dict3.values())\n",
        "ax.set_xticklabels(dict3.keys())\n",
        "plt.xlabel(\"Models Name\")\n",
        "plt.ylabel(\"Precision Percentage\")\n",
        "plt.title(\"Precision graph\")\n",
        "\n",
        "plt.show()"
      ],
      "metadata": {
        "colab": {
          "base_uri": "https://localhost:8080/",
          "height": 489
        },
        "id": "PEv1Ue8Fy2GJ",
        "outputId": "bfee1c6f-5de2-40bf-d47e-45d03c5a7530"
      },
      "execution_count": 41,
      "outputs": [
        {
          "output_type": "display_data",
          "data": {
            "text/plain": [
              "<Figure size 1000x500 with 0 Axes>"
            ]
          },
          "metadata": {}
        },
        {
          "output_type": "display_data",
          "data": {
            "text/plain": [
              "<Figure size 640x480 with 1 Axes>"
            ],
            "image/png": "[encoded data removed]"
          },
          "metadata": {}
        }
      ]
    },
    {
      "cell_type": "code",
      "source": [
        "data_16 = np.array(gnb_f1)\n",
        "\n",
        "data_17 = np.array(knn_f1)\n",
        "\n",
        "data_18 = np.array(dec_f1)\n",
        "\n",
        "data_19 = np.array(lr_f1)\n",
        "\n",
        "dict4 = {'NB': data_16, 'KNN_7': data_17,'DT': data_18, 'LR': data_19}\n",
        "\n",
        "plt.figure(figsize=(10, 5))\n",
        "fig, ax = plt.subplots()\n",
        "ax.boxplot(dict4.values())\n",
        "ax.set_xticklabels(dict4.keys())\n",
        "plt.xlabel(\"Models Name\")\n",
        "plt.ylabel(\"F1_Score Percentage\")\n",
        "plt.title(\"F1_Score graph\")\n",
        "\n",
        "plt.show()"
      ],
      "metadata": {
        "colab": {
          "base_uri": "https://localhost:8080/",
          "height": 489
        },
        "id": "iQKkayDGzEyw",
        "outputId": "4ed827b3-6cee-4d17-8c58-c742598e6c8c"
      },
      "execution_count": 42,
      "outputs": [
        {
          "output_type": "display_data",
          "data": {
            "text/plain": [
              "<Figure size 1000x500 with 0 Axes>"
            ]
          },
          "metadata": {}
        },
        {
          "output_type": "display_data",
          "data": {
            "text/plain": [
              "<Figure size 640x480 with 1 Axes>"
            ],
            "image/png": "[encoded data removed]"
          },
          "metadata": {}
        }
      ]
    },
    {
      "cell_type": "code",
      "source": [
        "ca=['Accuracy','Recall','Precision','F1 Score']\n",
        "\n",
        "gn1 = [sum(gnb_acc) / len(gnb_acc), sum(gnb_rec) / len(gnb_rec), sum(gnb_pre) / len(gnb_pre), sum(gnb_f1) / len(gnb_f1)]\n",
        "\n",
        "knn_7_1 = [sum(knn_acc) / len(knn_acc), sum(knn_rec) / len(knn_rec), sum(knn_pre) / len(knn_pre), sum(knn_f1) / len(knn_f1)]\n",
        "\n",
        "log1 = [sum(lr_acc) / len(lr_acc), sum(lr_rec) / len(lr_rec), sum(lr_pre) / len(lr_pre), sum(lr_f1) / len(lr_f1)]\n",
        "\n",
        "dect1 = [sum(dec_acc) / len(dec_acc), sum(dec_rec) / len(dec_rec), sum(dec_pre) / len(dec_pre), sum(dec_f1) / len(dec_f1)]\n",
        "\n",
        "angles = np.linspace(start=0, stop=2 * np.pi, num=len(gn1), endpoint=False)\n",
        "\n",
        "gn1.append(gn1[0])\n",
        "\n",
        "knn_7_1.append(knn_7_1[0])\n",
        "\n",
        "log1.append(log1[0])\n",
        "\n",
        "dect1.append(dect1[0])\n",
        "\n",
        "ca.append(ca[0])\n",
        "\n",
        "angles=np.concatenate((angles,[angles[0]]))\n",
        "\n",
        "plt.figure(figsize=(6, 6))\n",
        "\n",
        "plt.subplot(polar=True)\n",
        "\n",
        "plt.plot(angles, gn1, label='NB')\n",
        "\n",
        "plt.plot(angles, knn_7_1, label='KNN_7')\n",
        "\n",
        "plt.plot(angles, log1, label='Logisstic Regression')\n",
        "\n",
        "plt.plot(angles, dect1, label='DT')\n",
        "\n",
        "plt.thetagrids(np.degrees(angles), labels=ca)\n",
        "\n",
        "plt.legend(bbox_to_anchor=(1, 1))\n",
        "plt.show()"
      ],
      "metadata": {
        "colab": {
          "base_uri": "https://localhost:8080/",
          "height": 551
        },
        "id": "5-Bs3DLx0nSS",
        "outputId": "f7c59381-541d-4395-9440-da3371596283"
      },
      "execution_count": 45,
      "outputs": [
        {
          "output_type": "display_data",
          "data": {
            "text/plain": [
              "<Figure size 600x600 with 1 Axes>"
            ],
            "image/png": "[encoded data removed]"
          },
          "metadata": {}
        }
      ]
    },
    {
      "cell_type": "code",
      "source": [],
      "metadata": {
        "id": "a1qDmArTy-1k"
      },
      "execution_count": null,
      "outputs": []
    }
  ]
}